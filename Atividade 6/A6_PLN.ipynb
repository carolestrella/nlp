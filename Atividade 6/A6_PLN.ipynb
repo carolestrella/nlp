{
  "nbformat": 4,
  "nbformat_minor": 0,
  "metadata": {
    "colab": {
      "name": "aula4/8.ipynb",
      "provenance": [],
      "collapsed_sections": []
    },
    "kernelspec": {
      "name": "python3",
      "display_name": "Python 3"
    },
    "language_info": {
      "name": "python"
    }
  },
  "cells": [
    {
      "cell_type": "markdown",
      "source": [
        "Carolina Estrella Machado - 180074792\n",
        "\n",
        "Ana Beatriz Wanderley Massuh - 200060783 \n",
        "\n",
        "Mirella Gomes Silva Nascimento - 202033525"
      ],
      "metadata": {
        "id": "8cc-FcoK9_vd"
      }
    },
    {
      "cell_type": "code",
      "source": [
        "!pip install krippendorff"
      ],
      "metadata": {
        "id": "20eI18Ha9PBX",
        "outputId": "4f32c370-14ea-4a1b-b165-22468090400a",
        "colab": {
          "base_uri": "https://localhost:8080/"
        }
      },
      "execution_count": null,
      "outputs": [
        {
          "output_type": "stream",
          "name": "stdout",
          "text": [
            "Looking in indexes: https://pypi.org/simple, https://us-python.pkg.dev/colab-wheels/public/simple/\n",
            "Collecting krippendorff\n",
            "  Downloading krippendorff-0.5.1-py3-none-any.whl (17 kB)\n",
            "Requirement already satisfied: numpy in /usr/local/lib/python3.7/dist-packages (from krippendorff) (1.21.6)\n",
            "Installing collected packages: krippendorff\n",
            "Successfully installed krippendorff-0.5.1\n"
          ]
        }
      ]
    },
    {
      "cell_type": "code",
      "execution_count": 19,
      "metadata": {
        "id": "sc9_KUPpCRNd"
      },
      "outputs": [],
      "source": [
        "import pandas as pd\n",
        "import json\n",
        "import os\n",
        "import krippendorff\n",
        "import numpy as np\n",
        "import pandas as pd\n",
        "from sklearn.metrics import cohen_kappa_score"
      ]
    },
    {
      "cell_type": "code",
      "source": [
        "df_dict = {}"
      ],
      "metadata": {
        "id": "VGjkJkz4fddN"
      },
      "execution_count": null,
      "outputs": []
    },
    {
      "cell_type": "code",
      "source": [
        "ana = {}\n",
        "path = \"/content/Ana\"\n",
        "for file in os.listdir(path):\n",
        "    full_filename = \"%s/%s\" % (path, file)\n",
        "    with open(full_filename,'r') as fi:\n",
        "      data = fi.read().replace('\\n', '')\n",
        "      value = json.loads(data)['metas']['m_4']['value']\n",
        "      x = full_filename.split(\"headphone.csv_\")\n",
        "      x = x[1].split(\".ann.json\")\n",
        "      ana['doc ' + x[0]] = value\n",
        "\n",
        "print(ana)\n",
        "df_dict['Ana'] = ana"
      ],
      "metadata": {
        "colab": {
          "base_uri": "https://localhost:8080/"
        },
        "id": "XmVP7i4f18tU",
        "outputId": "52f936f0-5629-434c-9104-f480a6e19810"
      },
      "execution_count": null,
      "outputs": [
        {
          "output_type": "stream",
          "name": "stdout",
          "text": [
            "{'doc 18': 'neutral', 'doc 11': 'good', 'doc 45': 'bad', 'doc 70': 'bad', 'doc 46': 'bad', 'doc 91': 'good', 'doc 7': 'good', 'doc 60': 'bad', 'doc 17': 'good', 'doc 24': 'good', 'doc 81': 'good', 'doc 86': 'neutral', 'doc 30': 'bad', 'doc 93': 'good', 'doc 88': 'bad', 'doc 40': 'good', 'doc 67': 'good', 'doc 71': 'good', 'doc 26': 'bad', 'doc 97': 'bad', 'doc 12': 'bad', 'doc 49': 'bad', 'doc 73': 'bad', 'doc 100': 'good', 'doc 43': 'good', 'doc 53': 'bad', 'doc 3': 'good', 'doc 68': 'good', 'doc 5': 'bad', 'doc 4': 'good', 'doc 52': 'good', 'doc 35': 'neutral', 'doc 94': 'bad', 'doc 92': 'good', 'doc 98': 'good', 'doc 58': 'good', 'doc 27': 'neutral', 'doc 20': 'neutral', 'doc 22': 'good', 'doc 31': 'bad', 'doc 74': 'bad', 'doc 72': 'good', 'doc 84': 'bad', 'doc 38': 'neutral', 'doc 48': 'bad', 'doc 8': 'bad', 'doc 39': 'good', 'doc 25': 'good', 'doc 41': 'good', 'doc 66': 'bad', 'doc 37': 'good', 'doc 29': 'good', 'doc 80': 'good', 'doc 32': 'good', 'doc 87': 'bad', 'doc 89': 'bad', 'doc 16': 'good', 'doc 33': 'good', 'doc 65': 'good', 'doc 34': 'bad', 'doc 95': 'bad', 'doc 47': 'good', 'doc 69': 'good', 'doc 63': 'bad', 'doc 83': 'bad', 'doc 64': 'bad', 'doc 59': 'bad', 'doc 99': 'good', 'doc 15': 'bad', 'doc 76': 'bad', 'doc 56': 'bad', 'doc 36': 'bad', 'doc 2': 'good', 'doc 21': 'good', 'doc 23': 'good', 'doc 19': 'good', 'doc 13': 'bad', 'doc 79': 'bad', 'doc 62': 'good', 'doc 55': 'bad', 'doc 85': 'bad', 'doc 51': 'bad', 'doc 54': 'good', 'doc 28': 'good', 'doc 14': 'bad', 'doc 96': 'bad', 'doc 44': 'good', 'doc 10': 'good', 'doc 6': 'bad', 'doc 1': 'good', 'doc 42': 'good', 'doc 50': 'bad', 'doc 90': 'bad', 'doc 77': 'bad', 'doc 57': 'neutral', 'doc 75': 'good', 'doc 61': 'neutral', 'doc 9': 'bad', 'doc 82': 'good', 'doc 78': 'bad'}\n"
          ]
        }
      ]
    },
    {
      "cell_type": "code",
      "source": [
        "carol = {}\n",
        "path = \"/content/Carol\"\n",
        "for file in os.listdir(path):\n",
        "    full_filename = \"%s/%s\" % (path, file)\n",
        "    with open(full_filename,'r') as fi:\n",
        "      data = fi.read().replace('\\n', '')\n",
        "      value = json.loads(data)['metas']['m_4']['value']\n",
        "      x = full_filename.split(\"headphone.csv_\")\n",
        "      x = x[1].split(\".ann.json\")\n",
        "      carol['doc ' + x[0]] = value\n",
        "\n",
        "print(carol)\n",
        "df_dict['Carol'] = carol"
      ],
      "metadata": {
        "colab": {
          "base_uri": "https://localhost:8080/"
        },
        "id": "CCB7bo83_nev",
        "outputId": "fa8697fc-d483-4d57-c922-f487234a51e8"
      },
      "execution_count": null,
      "outputs": [
        {
          "output_type": "stream",
          "name": "stdout",
          "text": [
            "{'doc 18': 'good', 'doc 11': 'good', 'doc 45': 'bad', 'doc 70': 'bad', 'doc 46': 'bad', 'doc 91': 'good', 'doc 7': 'good', 'doc 60': 'bad', 'doc 17': 'neutral', 'doc 24': 'good', 'doc 81': 'good', 'doc 86': 'good', 'doc 30': 'bad', 'doc 93': 'good', 'doc 88': 'bad', 'doc 40': 'good', 'doc 67': 'good', 'doc 71': 'good', 'doc 26': 'bad', 'doc 97': 'bad', 'doc 12': 'neutral', 'doc 49': 'bad', 'doc 73': 'bad', 'doc 100': 'good', 'doc 43': 'good', 'doc 53': 'bad', 'doc 3': 'good', 'doc 68': 'good', 'doc 5': 'bad', 'doc 4': 'neutral', 'doc 52': 'good', 'doc 35': 'good', 'doc 94': 'bad', 'doc 92': 'neutral', 'doc 98': 'good', 'doc 58': 'neutral', 'doc 27': 'good', 'doc 20': 'good', 'doc 22': 'good', 'doc 31': 'bad', 'doc 74': 'neutral', 'doc 72': 'good', 'doc 84': 'bad', 'doc 38': 'neutral', 'doc 48': 'bad', 'doc 8': 'bad', 'doc 39': 'good', 'doc 25': 'neutral', 'doc 41': 'good', 'doc 66': 'bad', 'doc 37': 'bad', 'doc 29': 'good', 'doc 80': 'neutral', 'doc 32': 'good', 'doc 87': 'bad', 'doc 89': 'bad', 'doc 16': 'good', 'doc 33': 'good', 'doc 65': 'bad', 'doc 34': 'neutral', 'doc 95': 'neutral', 'doc 47': 'good', 'doc 69': 'neutral', 'doc 63': 'bad', 'doc 83': 'bad', 'doc 64': 'bad', 'doc 59': 'bad', 'doc 99': 'good', 'doc 15': 'bad', 'doc 76': 'neutral', 'doc 56': 'bad', 'doc 36': 'neutral', 'doc 2': 'good', 'doc 21': 'neutral', 'doc 23': 'good', 'doc 19': 'neutral', 'doc 13': 'good', 'doc 79': 'bad', 'doc 62': 'good', 'doc 55': 'bad', 'doc 85': 'bad', 'doc 51': 'bad', 'doc 54': 'good', 'doc 28': 'good', 'doc 14': 'bad', 'doc 96': 'good', 'doc 44': 'good', 'doc 10': 'good', 'doc 6': 'bad', 'doc 1': 'good', 'doc 42': 'good', 'doc 50': 'bad', 'doc 90': 'bad', 'doc 77': 'bad', 'doc 57': 'neutral', 'doc 75': 'good', 'doc 61': 'neutral', 'doc 9': 'bad', 'doc 82': 'neutral', 'doc 78': 'bad'}\n"
          ]
        }
      ]
    },
    {
      "cell_type": "code",
      "source": [
        "mirella = {}\n",
        "path = \"/content/Mirella\"\n",
        "for file in os.listdir(path):\n",
        "    full_filename = \"%s/%s\" % (path, file)\n",
        "    with open(full_filename,'r') as fi:\n",
        "      data = fi.read().replace('\\n', '')\n",
        "      value = json.loads(data)['metas']['m_4']['value']\n",
        "      x = full_filename.split(\"headphone.csv_\")\n",
        "      x = x[1].split(\".ann.json\")\n",
        "      mirella['doc ' + x[0]] = value\n",
        "\n",
        "print(mirella)\n",
        "df_dict['Mirella'] = mirella"
      ],
      "metadata": {
        "colab": {
          "base_uri": "https://localhost:8080/"
        },
        "id": "Ln00Ya5PhuN_",
        "outputId": "33189f2a-2b25-407b-e389-7acc76786a98"
      },
      "execution_count": null,
      "outputs": [
        {
          "output_type": "stream",
          "name": "stdout",
          "text": [
            "{'doc 18': 'bad', 'doc 11': 'bad', 'doc 45': 'bad', 'doc 70': 'bad', 'doc 46': 'bad', 'doc 91': 'good', 'doc 7': 'good', 'doc 60': 'bad', 'doc 17': 'good', 'doc 24': 'good', 'doc 81': 'good', 'doc 86': 'bad', 'doc 30': 'bad', 'doc 93': 'good', 'doc 88': 'bad', 'doc 40': 'good', 'doc 67': 'good', 'doc 71': 'good', 'doc 26': 'bad', 'doc 97': 'bad', 'doc 12': 'bad', 'doc 49': 'bad', 'doc 73': 'bad', 'doc 100': 'good', 'doc 43': 'good', 'doc 53': 'bad', 'doc 3': 'good', 'doc 68': 'good', 'doc 5': 'bad', 'doc 4': 'bad', 'doc 52': 'good', 'doc 35': 'good', 'doc 94': 'bad', 'doc 92': 'good', 'doc 98': 'good', 'doc 58': 'good', 'doc 27': 'good', 'doc 20': 'bad', 'doc 22': 'good', 'doc 31': 'bad', 'doc 74': 'good', 'doc 72': 'good', 'doc 84': 'bad', 'doc 38': 'good', 'doc 48': 'bad', 'doc 8': 'bad', 'doc 39': 'good', 'doc 25': 'good', 'doc 41': 'good', 'doc 66': 'bad', 'doc 37': 'bad', 'doc 29': 'good', 'doc 80': 'good', 'doc 32': 'good', 'doc 87': 'bad', 'doc 89': 'bad', 'doc 16': 'good', 'doc 33': 'good', 'doc 65': 'bad', 'doc 34': 'bad', 'doc 95': 'neutral', 'doc 47': 'good', 'doc 69': 'good', 'doc 63': 'bad', 'doc 83': 'bad', 'doc 64': 'bad', 'doc 59': 'bad', 'doc 99': 'good', 'doc 15': 'bad', 'doc 76': 'bad', 'doc 56': 'bad', 'doc 36': 'bad', 'doc 2': 'good', 'doc 21': 'bad', 'doc 23': 'good', 'doc 19': 'good', 'doc 13': 'good', 'doc 79': 'bad', 'doc 62': 'good', 'doc 55': 'bad', 'doc 85': 'bad', 'doc 51': 'bad', 'doc 54': 'good', 'doc 28': 'good', 'doc 14': 'bad', 'doc 96': 'good', 'doc 44': 'good', 'doc 10': 'good', 'doc 6': 'bad', 'doc 1': 'good', 'doc 42': 'good', 'doc 50': 'bad', 'doc 90': 'bad', 'doc 77': 'bad', 'doc 57': 'neutral', 'doc 75': 'neutral', 'doc 61': 'good', 'doc 9': 'bad', 'doc 82': 'good', 'doc 78': 'bad'}\n"
          ]
        }
      ]
    },
    {
      "cell_type": "code",
      "source": [
        "df = pd.DataFrame.from_dict(df_dict)\n",
        "df"
      ],
      "metadata": {
        "colab": {
          "base_uri": "https://localhost:8080/",
          "height": 424
        },
        "id": "RmTektv2h4yy",
        "outputId": "8ed1ea8d-9acc-40ac-8904-fff137132a7c"
      },
      "execution_count": null,
      "outputs": [
        {
          "output_type": "execute_result",
          "data": {
            "text/plain": [
              "            Ana    Carol  Mirella\n",
              "doc 18  neutral     good      bad\n",
              "doc 11     good     good      bad\n",
              "doc 45      bad      bad      bad\n",
              "doc 70      bad      bad      bad\n",
              "doc 46      bad      bad      bad\n",
              "...         ...      ...      ...\n",
              "doc 75     good     good  neutral\n",
              "doc 61  neutral  neutral     good\n",
              "doc 9       bad      bad      bad\n",
              "doc 82     good  neutral     good\n",
              "doc 78      bad      bad      bad\n",
              "\n",
              "[100 rows x 3 columns]"
            ],
            "text/html": [
              "\n",
              "  <div id=\"df-73f5339b-8771-4942-ac14-8dbe02c4b9a2\">\n",
              "    <div class=\"colab-df-container\">\n",
              "      <div>\n",
              "<style scoped>\n",
              "    .dataframe tbody tr th:only-of-type {\n",
              "        vertical-align: middle;\n",
              "    }\n",
              "\n",
              "    .dataframe tbody tr th {\n",
              "        vertical-align: top;\n",
              "    }\n",
              "\n",
              "    .dataframe thead th {\n",
              "        text-align: right;\n",
              "    }\n",
              "</style>\n",
              "<table border=\"1\" class=\"dataframe\">\n",
              "  <thead>\n",
              "    <tr style=\"text-align: right;\">\n",
              "      <th></th>\n",
              "      <th>Ana</th>\n",
              "      <th>Carol</th>\n",
              "      <th>Mirella</th>\n",
              "    </tr>\n",
              "  </thead>\n",
              "  <tbody>\n",
              "    <tr>\n",
              "      <th>doc 18</th>\n",
              "      <td>neutral</td>\n",
              "      <td>good</td>\n",
              "      <td>bad</td>\n",
              "    </tr>\n",
              "    <tr>\n",
              "      <th>doc 11</th>\n",
              "      <td>good</td>\n",
              "      <td>good</td>\n",
              "      <td>bad</td>\n",
              "    </tr>\n",
              "    <tr>\n",
              "      <th>doc 45</th>\n",
              "      <td>bad</td>\n",
              "      <td>bad</td>\n",
              "      <td>bad</td>\n",
              "    </tr>\n",
              "    <tr>\n",
              "      <th>doc 70</th>\n",
              "      <td>bad</td>\n",
              "      <td>bad</td>\n",
              "      <td>bad</td>\n",
              "    </tr>\n",
              "    <tr>\n",
              "      <th>doc 46</th>\n",
              "      <td>bad</td>\n",
              "      <td>bad</td>\n",
              "      <td>bad</td>\n",
              "    </tr>\n",
              "    <tr>\n",
              "      <th>...</th>\n",
              "      <td>...</td>\n",
              "      <td>...</td>\n",
              "      <td>...</td>\n",
              "    </tr>\n",
              "    <tr>\n",
              "      <th>doc 75</th>\n",
              "      <td>good</td>\n",
              "      <td>good</td>\n",
              "      <td>neutral</td>\n",
              "    </tr>\n",
              "    <tr>\n",
              "      <th>doc 61</th>\n",
              "      <td>neutral</td>\n",
              "      <td>neutral</td>\n",
              "      <td>good</td>\n",
              "    </tr>\n",
              "    <tr>\n",
              "      <th>doc 9</th>\n",
              "      <td>bad</td>\n",
              "      <td>bad</td>\n",
              "      <td>bad</td>\n",
              "    </tr>\n",
              "    <tr>\n",
              "      <th>doc 82</th>\n",
              "      <td>good</td>\n",
              "      <td>neutral</td>\n",
              "      <td>good</td>\n",
              "    </tr>\n",
              "    <tr>\n",
              "      <th>doc 78</th>\n",
              "      <td>bad</td>\n",
              "      <td>bad</td>\n",
              "      <td>bad</td>\n",
              "    </tr>\n",
              "  </tbody>\n",
              "</table>\n",
              "<p>100 rows × 3 columns</p>\n",
              "</div>\n",
              "      <button class=\"colab-df-convert\" onclick=\"convertToInteractive('df-73f5339b-8771-4942-ac14-8dbe02c4b9a2')\"\n",
              "              title=\"Convert this dataframe to an interactive table.\"\n",
              "              style=\"display:none;\">\n",
              "        \n",
              "  <svg xmlns=\"http://www.w3.org/2000/svg\" height=\"24px\"viewBox=\"0 0 24 24\"\n",
              "       width=\"24px\">\n",
              "    <path d=\"M0 0h24v24H0V0z\" fill=\"none\"/>\n",
              "    <path d=\"M18.56 5.44l.94 2.06.94-2.06 2.06-.94-2.06-.94-.94-2.06-.94 2.06-2.06.94zm-11 1L8.5 8.5l.94-2.06 2.06-.94-2.06-.94L8.5 2.5l-.94 2.06-2.06.94zm10 10l.94 2.06.94-2.06 2.06-.94-2.06-.94-.94-2.06-.94 2.06-2.06.94z\"/><path d=\"M17.41 7.96l-1.37-1.37c-.4-.4-.92-.59-1.43-.59-.52 0-1.04.2-1.43.59L10.3 9.45l-7.72 7.72c-.78.78-.78 2.05 0 2.83L4 21.41c.39.39.9.59 1.41.59.51 0 1.02-.2 1.41-.59l7.78-7.78 2.81-2.81c.8-.78.8-2.07 0-2.86zM5.41 20L4 18.59l7.72-7.72 1.47 1.35L5.41 20z\"/>\n",
              "  </svg>\n",
              "      </button>\n",
              "      \n",
              "  <style>\n",
              "    .colab-df-container {\n",
              "      display:flex;\n",
              "      flex-wrap:wrap;\n",
              "      gap: 12px;\n",
              "    }\n",
              "\n",
              "    .colab-df-convert {\n",
              "      background-color: #E8F0FE;\n",
              "      border: none;\n",
              "      border-radius: 50%;\n",
              "      cursor: pointer;\n",
              "      display: none;\n",
              "      fill: #1967D2;\n",
              "      height: 32px;\n",
              "      padding: 0 0 0 0;\n",
              "      width: 32px;\n",
              "    }\n",
              "\n",
              "    .colab-df-convert:hover {\n",
              "      background-color: #E2EBFA;\n",
              "      box-shadow: 0px 1px 2px rgba(60, 64, 67, 0.3), 0px 1px 3px 1px rgba(60, 64, 67, 0.15);\n",
              "      fill: #174EA6;\n",
              "    }\n",
              "\n",
              "    [theme=dark] .colab-df-convert {\n",
              "      background-color: #3B4455;\n",
              "      fill: #D2E3FC;\n",
              "    }\n",
              "\n",
              "    [theme=dark] .colab-df-convert:hover {\n",
              "      background-color: #434B5C;\n",
              "      box-shadow: 0px 1px 3px 1px rgba(0, 0, 0, 0.15);\n",
              "      filter: drop-shadow(0px 1px 2px rgba(0, 0, 0, 0.3));\n",
              "      fill: #FFFFFF;\n",
              "    }\n",
              "  </style>\n",
              "\n",
              "      <script>\n",
              "        const buttonEl =\n",
              "          document.querySelector('#df-73f5339b-8771-4942-ac14-8dbe02c4b9a2 button.colab-df-convert');\n",
              "        buttonEl.style.display =\n",
              "          google.colab.kernel.accessAllowed ? 'block' : 'none';\n",
              "\n",
              "        async function convertToInteractive(key) {\n",
              "          const element = document.querySelector('#df-73f5339b-8771-4942-ac14-8dbe02c4b9a2');\n",
              "          const dataTable =\n",
              "            await google.colab.kernel.invokeFunction('convertToInteractive',\n",
              "                                                     [key], {});\n",
              "          if (!dataTable) return;\n",
              "\n",
              "          const docLinkHtml = 'Like what you see? Visit the ' +\n",
              "            '<a target=\"_blank\" href=https://colab.research.google.com/notebooks/data_table.ipynb>data table notebook</a>'\n",
              "            + ' to learn more about interactive tables.';\n",
              "          element.innerHTML = '';\n",
              "          dataTable['output_type'] = 'display_data';\n",
              "          await google.colab.output.renderOutput(dataTable, element);\n",
              "          const docLink = document.createElement('div');\n",
              "          docLink.innerHTML = docLinkHtml;\n",
              "          element.appendChild(docLink);\n",
              "        }\n",
              "      </script>\n",
              "    </div>\n",
              "  </div>\n",
              "  "
            ]
          },
          "metadata": {},
          "execution_count": 15
        }
      ]
    },
    {
      "cell_type": "code",
      "source": [
        "corpus_transpose = []\n",
        "\n",
        "for atrib in df:\n",
        "  lista = np.array(df[atrib])\n",
        "  corpus_transpose.append(list(lista.T))"
      ],
      "metadata": {
        "id": "_4sPBJJH84lB"
      },
      "execution_count": 20,
      "outputs": []
    },
    {
      "cell_type": "code",
      "source": [
        "mapping = {'good' : 2, 'neutral' : 1, 'bad' : 0}"
      ],
      "metadata": {
        "id": "NsdAUEgJ9J3Q"
      },
      "execution_count": 22,
      "outputs": []
    },
    {
      "cell_type": "code",
      "source": [
        "corpus_transpose_int = []\n",
        "\n",
        "for labels in corpus_transpose:\n",
        "    t = []\n",
        "    for doc in labels:\n",
        "        t.append(mapping[doc])\n",
        "    corpus_transpose_int.append(t)"
      ],
      "metadata": {
        "id": "J7-n4hZg9RLQ"
      },
      "execution_count": 24,
      "outputs": []
    },
    {
      "cell_type": "code",
      "source": [
        "print(\"Krippendorff's alpha for nominal metric: \", krippendorff.alpha(reliability_data=corpus_transpose_int,\n",
        "                                                                          level_of_measurement=\"nominal\"))\n"
      ],
      "metadata": {
        "colab": {
          "base_uri": "https://localhost:8080/"
        },
        "id": "Q-cOCnCQ9iQN",
        "outputId": "f85af3d8-4855-4e6e-ba86-1e99ca49b939"
      },
      "execution_count": 26,
      "outputs": [
        {
          "output_type": "stream",
          "name": "stdout",
          "text": [
            "Krippendorff's alpha for nominal metric:  0.6364879753808745\n"
          ]
        }
      ]
    }
  ]
}